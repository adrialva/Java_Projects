{
  "nbformat": 4,
  "nbformat_minor": 0,
  "metadata": {
    "colab": {
      "name": "Conclusion_variables.ipynb",
      "provenance": [],
      "collapsed_sections": []
    },
    "kernelspec": {
      "name": "python3",
      "display_name": "Python 3"
    },
    "language_info": {
      "name": "python"
    }
  },
  "cells": [
    {
      "cell_type": "markdown",
      "metadata": {
        "id": "lxJ2JeBu3fyP"
      },
      "source": [
        "# __Conclusión: Variables__\n",
        "\n",
        "El objetivo de esta sección es la de repasar el concepto más importante de una variable: la forma en cómo se accede a su contenido.\n",
        "\n",
        "### __1. Números y texto__\n",
        "\n",
        "Son variables de un sólo contenido, por lo que se pueden procesar directamente.\n",
        "\n"
      ]
    },
    {
      "cell_type": "code",
      "metadata": {
        "id": "70_vLPEE3cah"
      },
      "source": [
        "#Número\n",
        "num1 = 5\n",
        "num2 =2\n",
        "operacion = num1*num2\n",
        "print(operacion)"
      ],
      "execution_count": null,
      "outputs": []
    },
    {
      "cell_type": "code",
      "metadata": {
        "id": "RXURVn2q4jIl"
      },
      "source": [
        "#Texto\n",
        "text1 = \"Hola\"\n",
        "text2 = \"Chao\"\n",
        "Nuevo_texto = text1 + \", \" + text2\n",
        "print(Nuevo_texto)"
      ],
      "execution_count": null,
      "outputs": []
    },
    {
      "cell_type": "markdown",
      "metadata": {
        "id": "H18mTaiA43l-"
      },
      "source": [
        "### __2. Listas y tuplas__\n",
        "\n",
        "La diferencia principal entre una lista y una tupla es que esta última presenta un contenido _invariable_."
      ]
    },
    {
      "cell_type": "code",
      "metadata": {
        "id": "RFcpq9_L40Y0"
      },
      "source": [
        "#Lista\n",
        "lista_nombres = [\"Julio\", \"Andrés\", \"Sara\", \"Andrea\", \"Bernardo\"]\n",
        "datos = [(\"Carne\", 1), (\"Pan\", 2), (\"Lechuga\", 1), (\"Tomate\", 2)]\n",
        "print(lista_nombres)"
      ],
      "execution_count": null,
      "outputs": []
    },
    {
      "cell_type": "markdown",
      "metadata": {
        "id": "iMEvP50e6SAQ"
      },
      "source": [
        "### __3. Diccionario__\n",
        "\n",
        "A diferencia de las listas y tuplas, el diccionario brinda <u>nombres</u> a su contenido."
      ]
    },
    {
      "cell_type": "code",
      "metadata": {
        "id": "C333nWQ26NEi"
      },
      "source": [
        "ingredientes_pizza = {\n",
        "    'Harina': {\"Unidades\": \"Kg\", \"Cantidad\": 0.1},\n",
        "    \"Queso\": {\"Unidades\": 'g', \"Cantidad\": 50},\n",
        "    'Rúgula': {\"Unidades\": 'Lb', \"Cantidad\": 0.5},\n",
        "    \"Pimentón\": {\"Unidades\": 'Lb', \"Cantidad\": 0.2}\n",
        "}\n",
        "print(ingredientes_pizza[\"Queso\"])"
      ],
      "execution_count": null,
      "outputs": []
    }
  ]
}