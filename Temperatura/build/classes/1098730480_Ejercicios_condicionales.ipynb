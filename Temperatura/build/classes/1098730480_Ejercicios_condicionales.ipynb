{
  "nbformat": 4,
  "nbformat_minor": 0,
  "metadata": {
    "colab": {
      "name": "Ejercicios_condicionales.ipynb",
      "provenance": [],
      "collapsed_sections": []
    },
    "kernelspec": {
      "name": "python3",
      "display_name": "Python 3"
    },
    "language_info": {
      "name": "python"
    }
  },
  "cells": [
    {
      "cell_type": "markdown",
      "metadata": {
        "id": "LJ9mVu6vPNja"
      },
      "source": [
        "# __Condicionales__\n",
        "\n",
        "Recuerda que la estructura de una condicional es la siguiente:\n",
        "\n",
        "```\n",
        "if condicion:\n",
        "  (desarrollo 1)\n",
        "elif condicion2:\n",
        "  (desarrollo 2)\n",
        "else:\n",
        "  (desarrollo 3)\n",
        "```\n",
        "\n",
        "## __Ejercicio de ejemplo:__\n",
        "\n",
        "De la lista de personas, elabora un algoritmo que defina si una persona es menor de edad.\n",
        "\n"
      ]
    },
    {
      "cell_type": "code",
      "metadata": {
        "colab": {
          "base_uri": "https://localhost:8080/"
        },
        "id": "9JyRvt8j7K5D",
        "outputId": "d074c32d-aaee-4413-b384-86d8b8a7905a"
      },
      "source": [
        "#Lista de personas\n",
        "personas = {\n",
        "    'Agustín Florián': {'C.C.': '1.098.570.320', 'Ciuadad': 'Bucaramanga'},\n",
        "    'Sergio López': {'T.I.': '20.202.730', 'Ciudad': 'Bogotá'},\n",
        "    'Ángela Torres': {'C.C': '1.098.540.222', 'Ciudad': 'Cali'}\n",
        "}\n",
        "#---Solución---\n",
        "#Datos\n",
        "persona = 'Sergio López'\n",
        "doc = 'C.C.'                          #Tipo de documento a analizar\n",
        "mensaje = persona + ' tiene ' + doc   #Mensaje inicial (en caso de que se cumplan las condiciones)\n",
        "#Desarrollo\n",
        "if not doc in personas[persona]:      #'not' permite entrar a la condicional cuando la condición es 'False'\n",
        "  if doc == 'C.C.':                   #Se evalúa si el documento de análisis es C.C. o T.I.\n",
        "    text_cambiar = (\"T.I.\", \"menor\")\n",
        "  else:\n",
        "    text_cambiar = (\"C.C.\", \"mayor\")\n",
        "  mensaje = mensaje.replace(doc, text_cambiar[0]) + ', por lo que es ' + text_cambiar[1] + ' de edad.'\n",
        "print(mensaje)\n"
      ],
      "execution_count": 28,
      "outputs": [
        {
          "output_type": "stream",
          "text": [
            "Sergio López tiene T.I., por lo que es menor de edad.\n"
          ],
          "name": "stdout"
        }
      ]
    },
    {
      "cell_type": "markdown",
      "metadata": {
        "id": "lyReX1DM9TQw"
      },
      "source": [
        "# __Nuevos conceptos:__\n",
        "\n",
        "### 1. Nueva función interna para _variables de texto_\n",
        "\n",
        "Función `replace()` permite reemplazar un texto definido por otro. Funciona de la siguiente forma:\n",
        "\n",
        "```\n",
        "nuevo_texto = texto_viejo.replace(texto_a_cambiar, texto_nuevo)\n",
        "```\n",
        "\n",
        "### 2. Nuevo elemento condicional\n",
        "\n",
        "Normalmente, se entran a las estructuras condicionales cuando la condición es `True`, pero el elemento `not` permite entrar a la condicional cuando la condición es `False`.\n",
        "\n",
        "### 3. Nuevo elemento para diccionarios\n",
        "\n",
        "El elemento `in` permite evaluar si un <u>nombre</u> de variable se encuentra presente en un diccionario.\n",
        "\n",
        "El anterior ejercicio se resolvió con un diccionario, pero se podría emplear otro tipo de variable. Por ejemplo:"
      ]
    },
    {
      "cell_type": "code",
      "metadata": {
        "colab": {
          "base_uri": "https://localhost:8080/"
        },
        "id": "H-vlRwPx9uNC",
        "outputId": "428a8e77-dfe5-480a-a976-532881bef6a9"
      },
      "source": [
        "#Lista de personas\n",
        "personas = [\n",
        "    ('Agustín Florián','C.C.', '1.098.570.320', 'Bucaramanga'),\n",
        "    ('Sergio López', 'T.I.', '20.202.730', 'Bogotá'),\n",
        "    ('Ángela Torres', 'C.C.', '1.098.540.222', 'Cali')\n",
        "]\n",
        "#---Solución---\n",
        "#Datos\n",
        "num_persona = 0                                         #Identificador de la persona en la lista\n",
        "doc = 'T.I.'                                            #Tipo de documento a analizar\n",
        "mensaje = personas[num_persona][0] + ' tiene ' + doc    #Mensaje inicial (en caso de que se cumplan las condiciones)\n",
        "#Desarrollo\n",
        "if doc != personas[num_persona][1]:                     #¿Es el documento de referencia diferente al de la persona de análisis?\n",
        "  if doc == 'C.C.':                                     #Se evalúa si el documento de análisis es C.C. o T.I.\n",
        "    text_cambiar = (\"T.I.\", \"menor\")\n",
        "  else:\n",
        "    text_cambiar = (\"C.C.\", \"mayor\")\n",
        "  mensaje = mensaje.replace(doc, text_cambiar[0]) + ', por lo que es ' + text_cambiar[1] + ' de edad.'\n",
        "print(mensaje)"
      ],
      "execution_count": 25,
      "outputs": [
        {
          "output_type": "stream",
          "text": [
            "Agustín Florián tiene C.C., por lo que es mayor de edad.\n"
          ],
          "name": "stdout"
        }
      ]
    },
    {
      "cell_type": "markdown",
      "metadata": {
        "id": "XL-ZxHfp7Kie"
      },
      "source": [
        "## __1.1. Cálculo de una función _a trozos___\n",
        "\n",
        "En cálculo, una función _a trozos_ presenta un comportamiento matemático variable en diferentes secciones del dominio. Para una $x$ determinada, calcula el valor de $y$ tal que:\n",
        "\n",
        "$$\n",
        "\\begin{equation}\n",
        "  y = \\begin{cases}\n",
        "x^2 & \\text{ si } x \\, \\varepsilon [-1,1] \\\\ \n",
        "\\sin x & \\text{ si } x \\, \\varepsilon (-\\infty,-1) \\text{ y } (1, \\infty)\n",
        "\\end{cases}\n",
        "\\end{equation}\n",
        "$$"
      ]
    },
    {
      "cell_type": "code",
      "metadata": {
        "colab": {
          "base_uri": "https://localhost:8080/"
        },
        "id": "rfl0VP8FPM4y",
        "outputId": "a33055fb-8acb-4ff3-a4ff-2fa66ce5bb9b"
      },
      "source": [
        "from math import sin, pi, radians   #Métodos de la librería math para calcular la función seno.\n",
        "#Ejemplo: sin(90) = 1\n",
        "print(\"Opción 1: convertir ángulo en radianes:\", sin(pi*90/180))\n",
        "print(\"Opción 2: usar la función radians:\", sin(radians(90)))"
      ],
      "execution_count": null,
      "outputs": [
        {
          "output_type": "stream",
          "text": [
            "Opción 1: convertir ángulo en radianes: 1.0\n",
            "Opción 2: usar la función radians: 1.0\n"
          ],
          "name": "stdout"
        }
      ]
    },
    {
      "cell_type": "code",
      "metadata": {
        "id": "5R25-CtJaVWD"
      },
      "source": [
        "#Desarrolla el proceso de cálculo en este bloque...\n"
      ],
      "execution_count": null,
      "outputs": []
    },
    {
      "cell_type": "markdown",
      "metadata": {
        "id": "QjJ3UnOewmor"
      },
      "source": [
        "## __1.2. Número _par_ o _impar___\n",
        "\n",
        "Desarrolla un algoritmo que permita evaluar si un número $x$ es par o impar."
      ]
    },
    {
      "cell_type": "code",
      "metadata": {
        "id": "a_wyAMhFx4c1"
      },
      "source": [
        ""
      ],
      "execution_count": null,
      "outputs": []
    },
    {
      "cell_type": "markdown",
      "metadata": {
        "id": "jbFfDTvcyY9K"
      },
      "source": [
        "## __1.3. Lista del mercado__\n",
        "\n",
        "Imprime los elementos de la lista de mercado que no hayan sido pagados todavía.\n"
      ]
    },
    {
      "cell_type": "code",
      "metadata": {
        "id": "rsL2UB5C0Bjo"
      },
      "source": [
        "lista_mercado = [(\"Manzanas\", 10, \"Pagado\"), (\"Peras\", 2, \"No pagado\"), (\"Pescado\", 5, \"Falta por pagar\")]\n"
      ],
      "execution_count": null,
      "outputs": []
    }
  ]
}